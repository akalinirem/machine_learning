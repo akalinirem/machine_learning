{
 "cells": [
  {
   "cell_type": "markdown",
   "metadata": {},
   "source": [
    "<img src=\"../../img/hierarchical.png\" width=\"750\" height=\"300\">  \n",
    "<img src=\"../../img/hierarchical_1.png\" width=\"750\" height=\"300\">  "
   ]
  },
  {
   "cell_type": "markdown",
   "metadata": {},
   "source": [
    "treshold(euclidean distance) değeri 3 için 2 tane, 2 için 3 tane cluster vardır."
   ]
  },
  {
   "cell_type": "markdown",
   "metadata": {},
   "source": [
    "<img src=\"../../img/hierarchical_2.png\" width=\"750\" height=\"300\">  "
   ]
  },
  {
   "cell_type": "markdown",
   "metadata": {},
   "source": [
    "Yatay da kesilmeyen dikey en uzun uzunluk alınır ve oradan treshold çizilir ve oradan cluster sayısı alınır euclidian distance değeri belirlenir."
   ]
  }
 ],
 "metadata": {
  "kernelspec": {
   "display_name": ".venv",
   "language": "python",
   "name": "python3"
  },
  "language_info": {
   "name": "python",
   "version": "3.10.12"
  }
 },
 "nbformat": 4,
 "nbformat_minor": 2
}
